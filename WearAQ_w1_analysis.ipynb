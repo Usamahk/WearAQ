{
 "cells": [
  {
   "cell_type": "markdown",
   "metadata": {},
   "source": [
    "# Analysis of Workshops\n",
    "\n",
    "WearAQ's first workshop took place at the Tower Hamlets council on Wednesday, March 14th. This notebook runs through some tests with and analysis of the data - both from the participants and the Airbeam device.\n",
    "\n",
    "First, let's just load libraries and then move on to Workshop 1"
   ]
  },
  {
   "cell_type": "code",
   "execution_count": 35,
   "metadata": {},
   "outputs": [],
   "source": [
    "# Loading libraries\n",
    "import pandas as pd\n",
    "import numpy as np\n",
    "import seaborn as sns\n",
    "import os\n",
    "import pymc as pm\n",
    "\n",
    "# for plots\n",
    "from pymc.Matplot import plot as mcplot\n",
    "from matplotlib import pyplot as plt\n",
    "import matplotlib as mpl\n",
    "from IPython.core.pylabtools import figsize\n"
   ]
  },
  {
   "cell_type": "markdown",
   "metadata": {},
   "source": [
    "Now read in the data we have so far from the different workshops"
   ]
  },
  {
   "cell_type": "code",
   "execution_count": null,
   "metadata": {},
   "outputs": [],
   "source": [
    "\n",
    "\n"
   ]
  },
  {
   "cell_type": "markdown",
   "metadata": {},
   "source": [
    "# Workshop 1\n",
    "## Reading in the data"
   ]
  },
  {
   "cell_type": "code",
   "execution_count": 33,
   "metadata": {},
   "outputs": [
    {
     "name": "stdout",
     "output_type": "stream",
     "text": [
      "['Airbeam V1 - Temperature.csv', 'Airbeam V1 - PM2.5.csv', 'Airbeam V1 - Humidity.csv']\n",
      "\n",
      "      source  Location  gesture       lon        lat\n",
      "0   Device 1         1        1 -0.006205  51.509988\n",
      "1  Device 10         1        4 -0.004851  51.510117\n",
      "2  Device 12         1        5 -0.004498  51.509808\n",
      "3  Device 13         1        4 -0.006051  51.510064\n",
      "4  Device 15         1        2 -0.004816  51.509993\n"
     ]
    }
   ],
   "source": [
    "# Read in Airbeam data\n",
    "\n",
    "filenames = os.listdir(\"data/Workshop Data/Workshop 1\")\n",
    "print(filenames)\n",
    "\n",
    "for i in range(len(filenames)):\n",
    "    filenames[i] = \"data/Workshop Data/Workshop 1/\" + filenames[i]\n",
    "\n",
    "w1 = [pd.read_csv(filename, header = 2) for filename in filenames]\n",
    "\n",
    "for i in range(len(filenames)):\n",
    "    w1[i][\"Timestamp\"] = pd.to_datetime(w1[i].Timestamp)\n",
    "\n",
    "print()   \n",
    "\n",
    "# Read in the data\n",
    "w1_percep = pd.read_csv(\"data/Workshop data/Perception/W1_perception.csv\",float_precision = 'high')\n",
    "\n",
    "# Check the results\n",
    "print(w1_percep.head(5))"
   ]
  },
  {
   "cell_type": "markdown",
   "metadata": {},
   "source": [
    "This data was already cleaned up a little before processing here. The location column was added and erroneous values removed. However there are still some pieces of data missing. Lets take a look at a brief summary"
   ]
  },
  {
   "cell_type": "code",
   "execution_count": 3,
   "metadata": {},
   "outputs": [
    {
     "data": {
      "text/html": [
       "<div>\n",
       "<style scoped>\n",
       "    .dataframe tbody tr th:only-of-type {\n",
       "        vertical-align: middle;\n",
       "    }\n",
       "\n",
       "    .dataframe tbody tr th {\n",
       "        vertical-align: top;\n",
       "    }\n",
       "\n",
       "    .dataframe thead th {\n",
       "        text-align: right;\n",
       "    }\n",
       "</style>\n",
       "<table border=\"1\" class=\"dataframe\">\n",
       "  <thead>\n",
       "    <tr style=\"text-align: right;\">\n",
       "      <th></th>\n",
       "      <th>Location</th>\n",
       "      <th>gesture</th>\n",
       "      <th>lon</th>\n",
       "      <th>lat</th>\n",
       "    </tr>\n",
       "  </thead>\n",
       "  <tbody>\n",
       "    <tr>\n",
       "      <th>count</th>\n",
       "      <td>84.0</td>\n",
       "      <td>84.0</td>\n",
       "      <td>61.0</td>\n",
       "      <td>61.0</td>\n",
       "    </tr>\n",
       "  </tbody>\n",
       "</table>\n",
       "</div>"
      ],
      "text/plain": [
       "       Location  gesture   lon   lat\n",
       "count      84.0     84.0  61.0  61.0"
      ]
     },
     "execution_count": 3,
     "metadata": {},
     "output_type": "execute_result"
    }
   ],
   "source": [
    "w1.describe().head(1) # Look at count of data"
   ]
  },
  {
   "cell_type": "markdown",
   "metadata": {},
   "source": [
    "We registerd a total of 84 measurements by location and gesture, however we are missing 23 values for locations. This is because, as part of the experiment we have a *neutral* point for *OK* air quality. This is not associated with any gesture that is recorded in the tables. As such, if over the course of a walk we notice that there is no gesture associated with a variable at that point, then we add in a reading of *Gesture 3* at that location. Therefore, we force the **lon** and **lat** at those points to the **lon/lat** of the location. So, to clean this up a little:"
   ]
  },
  {
   "cell_type": "markdown",
   "metadata": {},
   "source": [
    "## Clean up"
   ]
  },
  {
   "cell_type": "code",
   "execution_count": 4,
   "metadata": {},
   "outputs": [
    {
     "data": {
      "text/html": [
       "<div>\n",
       "<style scoped>\n",
       "    .dataframe tbody tr th:only-of-type {\n",
       "        vertical-align: middle;\n",
       "    }\n",
       "\n",
       "    .dataframe tbody tr th {\n",
       "        vertical-align: top;\n",
       "    }\n",
       "\n",
       "    .dataframe thead th {\n",
       "        text-align: right;\n",
       "    }\n",
       "</style>\n",
       "<table border=\"1\" class=\"dataframe\">\n",
       "  <thead>\n",
       "    <tr style=\"text-align: right;\">\n",
       "      <th></th>\n",
       "      <th>Location</th>\n",
       "      <th>gesture</th>\n",
       "      <th>lon</th>\n",
       "      <th>lat</th>\n",
       "    </tr>\n",
       "  </thead>\n",
       "  <tbody>\n",
       "    <tr>\n",
       "      <th>count</th>\n",
       "      <td>84.0</td>\n",
       "      <td>84.0</td>\n",
       "      <td>84.0</td>\n",
       "      <td>84.0</td>\n",
       "    </tr>\n",
       "  </tbody>\n",
       "</table>\n",
       "</div>"
      ],
      "text/plain": [
       "       Location  gesture   lon   lat\n",
       "count      84.0     84.0  84.0  84.0"
      ]
     },
     "execution_count": 4,
     "metadata": {},
     "output_type": "execute_result"
    }
   ],
   "source": [
    "# Initialize locations for the firt workshop\n",
    "w1_loc = np.array([[ 51.509841, -0.0047257],\n",
    "       [ 51.510383, -0.003696],\n",
    "       [ 51.511037, -0.002661],\n",
    "       [ 51.511411, -0.003664],\n",
    "       [ 51.510954, -0.004286],\n",
    "       [ 51.510426, -0.005086]])\n",
    "\n",
    "\n",
    "w1_loc = pd.DataFrame(w1_loc)\n",
    "w1_loc.columns = ['lat','lon']\n",
    "w1_loc.index += 1\n",
    "\n",
    "w1.loc[w1['lon'].isnull(),'lon'] = w1['Location'].map(w1_loc.lon)\n",
    "w1.loc[w1['lat'].isnull(),'lat'] = w1['Location'].map(w1_loc.lat)\n",
    "\n",
    "w1.describe().head(1) "
   ]
  },
  {
   "cell_type": "markdown",
   "metadata": {},
   "source": [
    "There we go. Now we have a cleaner dataset and we can work on looking at the perception data in comparison with the data that we read in."
   ]
  },
  {
   "cell_type": "markdown",
   "metadata": {},
   "source": [
    "### Plot the data"
   ]
  },
  {
   "cell_type": "code",
   "execution_count": null,
   "metadata": {},
   "outputs": [],
   "source": []
  },
  {
   "cell_type": "markdown",
   "metadata": {},
   "source": [
    "# Workshop 2"
   ]
  },
  {
   "cell_type": "code",
   "execution_count": null,
   "metadata": {},
   "outputs": [],
   "source": []
  },
  {
   "cell_type": "code",
   "execution_count": 34,
   "metadata": {},
   "outputs": [
    {
     "name": "stdout",
     "output_type": "stream",
     "text": [
      "['Airbeam V1 - Temperature.csv', 'Airbeam V2 - b - PM 2.5.csv', 'Airbeam V2 - a - Humidity.csv', 'Airbeam V2 - a - PM 1.csv', 'Airbeam V2 - b - PM10.csv', 'Airbeam V2 - b - Humidity.csv', 'Airbeam V1 - PM 2.5.csv', 'Airbeam V2 - a - PM 10.csv', 'Airbeam V1 - Humidity.csv', 'Airbeam V2 - a - Temperature.csv', 'Airbeam V2 - b - PM 1.csv', 'Airbeam V2 - a - PM 2.5.csv', 'Airbeam V2 - b - Temperature.csv']\n",
      "\n",
      "     id            timestamp       lon        lat  gesture  workshop_id  \\\n",
      "0  7234  2018-03-28 12:05:54 -0.013466  51.518584        4            3   \n",
      "1  7235  2018-03-28 12:06:00 -0.013353  51.518540        4            3   \n",
      "2  7236  2018-03-28 12:06:04 -0.013400  51.518504        2            3   \n",
      "3  7237  2018-03-28 12:06:04 -0.013455  51.518759        2            3   \n",
      "4  7238  2018-03-28 12:06:04 -0.013390  51.518503        2            3   \n",
      "\n",
      "      source  \n",
      "0  Device 13  \n",
      "1   Device 1  \n",
      "2  Device 12  \n",
      "3  Device 20  \n",
      "4   Device 4  \n"
     ]
    }
   ],
   "source": [
    "# Read in Airbeam data\n",
    "\n",
    "filenames = os.listdir(\"data/Workshop Data/Workshop 2\")\n",
    "print(filenames)\n",
    "\n",
    "for i in range(len(filenames)):\n",
    "    filenames[i] = \"data/Workshop Data/Workshop 2/\" + filenames[i]\n",
    "\n",
    "w2 = [pd.read_csv(filename, header = 2) for filename in filenames]\n",
    "\n",
    "for i in range(len(filenames)):\n",
    "    w2[i][\"Timestamp\"] = pd.to_datetime(w2[i].Timestamp)\n",
    "\n",
    "print()   \n",
    "\n",
    "# Read in the data\n",
    "w2_percep = pd.read_csv(\"data/Workshop data/Perception/W2_perception.csv\",float_precision = 'high')\n",
    "\n",
    "w2_\n",
    "\n",
    "# Check the results\n",
    "print(w2_percep.head(5))"
   ]
  },
  {
   "cell_type": "code",
   "execution_count": null,
   "metadata": {},
   "outputs": [],
   "source": []
  },
  {
   "cell_type": "markdown",
   "metadata": {},
   "source": [
    "# Workshop 3"
   ]
  },
  {
   "cell_type": "code",
   "execution_count": 31,
   "metadata": {},
   "outputs": [
    {
     "name": "stdout",
     "output_type": "stream",
     "text": [
      "['Microphone - Mic.csv', 'Airbeam V2 - b - PM 2.5.csv', 'Airbeam V2 - b - PM 10.csv', 'Airbeam V2 - a - Humidity.csv', 'Airbeam V2 - a - PM 1.csv', 'Airbeam V1 - Termperature.csv', 'Airbeam V2 - b - Humidity.csv', 'Airbeam V1 - PM 2.5.csv', 'Airbeam V2 - a - PM 10.csv', 'Airbeam V1 - Humidity.csv', 'Airbeam V2 - a - Temperature.csv', 'Airbeam V2 - b - PM 1.csv', 'Airbeam V2 - a - PM 2.5.csv', 'Airbeam V2 - b - Temperature.csv']\n",
      "\n",
      "     id            timestamp       lon        lat  gesture  workshop_id  \\\n",
      "0  7272  2018-03-31 11:38:08 -0.009107  51.491517        4            4   \n",
      "1  7273  2018-03-31 11:38:13 -0.009109  51.491518        4            4   \n",
      "2  7274  2018-03-31 11:38:17 -0.011903  51.487252        2            4   \n",
      "3  7275  2018-03-31 11:38:18 -0.009119  51.491494        2            4   \n",
      "4  7276  2018-03-31 11:38:18 -0.009227  51.491518        4            4   \n",
      "\n",
      "      source  \n",
      "0   Device 5  \n",
      "1   Device 4  \n",
      "2  Device 17  \n",
      "3  Device 12  \n",
      "4  Device 19  \n"
     ]
    }
   ],
   "source": [
    "# Read in Airbeam data\n",
    "\n",
    "filenames = os.listdir(\"data/Workshop Data/Workshop 3\")\n",
    "print(filenames)\n",
    "\n",
    "for i in range(len(filenames)):\n",
    "    filenames[i] = \"data/Workshop Data/Workshop 3/\" + filenames[i]\n",
    "\n",
    "w3 = [pd.read_csv(filename, header = 2) for filename in filenames]\n",
    "\n",
    "for i in range(len(filenames)):\n",
    "    w3[i][\"Timestamp\"] = pd.to_datetime(w3[i].Timestamp)\n",
    "    \n",
    "print()\n",
    "    \n",
    "# Read in the data\n",
    "w3_clean = pd.read_csv(\"data/Workshop data/Perception/W3_perception.csv\",float_precision = 'high')\n",
    "w3_percep = pd.DataFrame(w3_clean)\n",
    "\n",
    "# Check the results\n",
    "print(w3_percep.head(5))"
   ]
  },
  {
   "cell_type": "code",
   "execution_count": null,
   "metadata": {},
   "outputs": [],
   "source": []
  }
 ],
 "metadata": {
  "kernelspec": {
   "display_name": "Python 3",
   "language": "python",
   "name": "python3"
  },
  "language_info": {
   "codemirror_mode": {
    "name": "ipython",
    "version": 3
   },
   "file_extension": ".py",
   "mimetype": "text/x-python",
   "name": "python",
   "nbconvert_exporter": "python",
   "pygments_lexer": "ipython3",
   "version": "3.5.5"
  }
 },
 "nbformat": 4,
 "nbformat_minor": 2
}
