{
 "cells": [
  {
   "cell_type": "markdown",
   "metadata": {},
   "source": [
    "# Analysis of Workshops\n",
    "\n",
    "WearAQ's first workshop took place at the Tower Hamlets council on Wednesday, March 14th. This notebook runs through some tests with and analysis of the data - both from the participants and the Airbeam device.\n",
    "\n",
    "First, let's just load libraries and then move on to Workshop 1"
   ]
  },
  {
   "cell_type": "code",
   "execution_count": 9,
   "metadata": {},
   "outputs": [],
   "source": [
    "# Loading libraries\n",
    "import pandas as pd\n",
    "import numpy as np\n",
    "import seaborn as sns\n",
    "import folium\n"
   ]
  },
  {
   "cell_type": "markdown",
   "metadata": {},
   "source": [
    "# Workshop 1\n",
    "## Reading in the data"
   ]
  },
  {
   "cell_type": "code",
   "execution_count": 7,
   "metadata": {},
   "outputs": [
    {
     "name": "stdout",
     "output_type": "stream",
     "text": [
      "      source  Location  gesture       lon        lat\n",
      "0   Device 1         1        1 -0.006205  51.509988\n",
      "1  Device 10         1        4 -0.004851  51.510117\n",
      "2  Device 12         1        5 -0.004498  51.509808\n",
      "3  Device 13         1        4 -0.006051  51.510064\n",
      "4  Device 15         1        2 -0.004816  51.509993\n"
     ]
    }
   ],
   "source": [
    "\n",
    "# Read in the data\n",
    "w1_clean = pd.read_csv(\"data/Workshop data/Workshop 1 - Perceptions - FINAL - Clean.csv\",float_precision = 'high')\n",
    "w1 = pd.DataFrame(w1_clean)\n",
    "\n",
    "# Check the results\n",
    "print(w1.head(5))"
   ]
  },
  {
   "cell_type": "markdown",
   "metadata": {},
   "source": [
    "This data was already cleaned up a little before processing here. The location column was added and erroneous values removed. However there are still some pieces of data missing. Lets take a look at a brief summary"
   ]
  },
  {
   "cell_type": "code",
   "execution_count": 8,
   "metadata": {},
   "outputs": [
    {
     "data": {
      "text/html": [
       "<div>\n",
       "<style scoped>\n",
       "    .dataframe tbody tr th:only-of-type {\n",
       "        vertical-align: middle;\n",
       "    }\n",
       "\n",
       "    .dataframe tbody tr th {\n",
       "        vertical-align: top;\n",
       "    }\n",
       "\n",
       "    .dataframe thead th {\n",
       "        text-align: right;\n",
       "    }\n",
       "</style>\n",
       "<table border=\"1\" class=\"dataframe\">\n",
       "  <thead>\n",
       "    <tr style=\"text-align: right;\">\n",
       "      <th></th>\n",
       "      <th>Location</th>\n",
       "      <th>gesture</th>\n",
       "      <th>lon</th>\n",
       "      <th>lat</th>\n",
       "    </tr>\n",
       "  </thead>\n",
       "  <tbody>\n",
       "    <tr>\n",
       "      <th>count</th>\n",
       "      <td>84.0</td>\n",
       "      <td>84.0</td>\n",
       "      <td>61.0</td>\n",
       "      <td>61.0</td>\n",
       "    </tr>\n",
       "  </tbody>\n",
       "</table>\n",
       "</div>"
      ],
      "text/plain": [
       "       Location  gesture   lon   lat\n",
       "count      84.0     84.0  61.0  61.0"
      ]
     },
     "execution_count": 8,
     "metadata": {},
     "output_type": "execute_result"
    }
   ],
   "source": [
    "w1.describe().head(1) # Look at count of data"
   ]
  },
  {
   "cell_type": "markdown",
   "metadata": {},
   "source": [
    "We registerd a total of 84 measurements by location and gesture, however we are missing 23 values for locations. This is because, as part of the experiment we have a *neutral* point for *OK* air quality. This is not associated with any gesture that is recorded in the tables. As such, if over the course of a walk we notice that there is no gesture associated with a variable at that point, then we add in a reading of *Gesture 3* at that location. Therefore, we force the **lon** and **lat** at those points to the **lon/lat** of the location. So, to clean this up a little:"
   ]
  },
  {
   "cell_type": "markdown",
   "metadata": {},
   "source": [
    "## Clean up"
   ]
  },
  {
   "cell_type": "code",
   "execution_count": 10,
   "metadata": {},
   "outputs": [
    {
     "data": {
      "text/html": [
       "<div>\n",
       "<style scoped>\n",
       "    .dataframe tbody tr th:only-of-type {\n",
       "        vertical-align: middle;\n",
       "    }\n",
       "\n",
       "    .dataframe tbody tr th {\n",
       "        vertical-align: top;\n",
       "    }\n",
       "\n",
       "    .dataframe thead th {\n",
       "        text-align: right;\n",
       "    }\n",
       "</style>\n",
       "<table border=\"1\" class=\"dataframe\">\n",
       "  <thead>\n",
       "    <tr style=\"text-align: right;\">\n",
       "      <th></th>\n",
       "      <th>Location</th>\n",
       "      <th>gesture</th>\n",
       "      <th>lon</th>\n",
       "      <th>lat</th>\n",
       "    </tr>\n",
       "  </thead>\n",
       "  <tbody>\n",
       "    <tr>\n",
       "      <th>count</th>\n",
       "      <td>84.0</td>\n",
       "      <td>84.0</td>\n",
       "      <td>84.0</td>\n",
       "      <td>84.0</td>\n",
       "    </tr>\n",
       "  </tbody>\n",
       "</table>\n",
       "</div>"
      ],
      "text/plain": [
       "       Location  gesture   lon   lat\n",
       "count      84.0     84.0  84.0  84.0"
      ]
     },
     "execution_count": 10,
     "metadata": {},
     "output_type": "execute_result"
    }
   ],
   "source": [
    "# Initialize locations for the firt workshop\n",
    "w1_loc = np.array([[ 51.509841, -0.0047257],\n",
    "       [ 51.510383, -0.003696],\n",
    "       [ 51.511037, -0.002661],\n",
    "       [ 51.511411, -0.003664],\n",
    "       [ 51.510954, -0.004286],\n",
    "       [ 51.510426, -0.005086]])\n",
    "\n",
    "\n",
    "w1_loc = pd.DataFrame(w1_loc)\n",
    "w1_loc.columns = ['lat','lon']\n",
    "w1_loc.index += 1\n",
    "\n",
    "w1.loc[w1['lon'].isnull(),'lon'] = w1['Location'].map(w1_loc.lon)\n",
    "w1.loc[w1['lat'].isnull(),'lat'] = w1['Location'].map(w1_loc.lat)\n",
    "\n",
    "w1.describe().head(1) "
   ]
  },
  {
   "cell_type": "markdown",
   "metadata": {},
   "source": [
    "There we go. Now we have a cleaner dataset and we can work on looking at the perception data in comparison with the data that we read in."
   ]
  },
  {
   "cell_type": "code",
   "execution_count": null,
   "metadata": {},
   "outputs": [],
   "source": []
  }
 ],
 "metadata": {
  "kernelspec": {
   "display_name": "Python 3",
   "language": "python",
   "name": "python3"
  },
  "language_info": {
   "codemirror_mode": {
    "name": "ipython",
    "version": 3
   },
   "file_extension": ".py",
   "mimetype": "text/x-python",
   "name": "python",
   "nbconvert_exporter": "python",
   "pygments_lexer": "ipython3",
   "version": "3.5.4"
  }
 },
 "nbformat": 4,
 "nbformat_minor": 2
}
